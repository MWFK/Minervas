{
  "nbformat": 4,
  "nbformat_minor": 0,
  "metadata": {
    "colab": {
      "provenance": [],
      "authorship_tag": "ABX9TyPSBZbb4grVOZhSZZV40MvH",
      "include_colab_link": true
    },
    "kernelspec": {
      "name": "python3",
      "display_name": "Python 3"
    },
    "language_info": {
      "name": "python"
    }
  },
  "cells": [
    {
      "cell_type": "markdown",
      "metadata": {
        "id": "view-in-github",
        "colab_type": "text"
      },
      "source": [
        "<a href=\"https://colab.research.google.com/github/MWFK/Minervas/blob/master/Assignments_Dataset.ipynb\" target=\"_parent\"><img src=\"https://colab.research.google.com/assets/colab-badge.svg\" alt=\"Open In Colab\"/></a>"
      ]
    },
    {
      "cell_type": "code",
      "source": [
        "import csv"
      ],
      "metadata": {
        "id": "5rml-kO3u80K"
      },
      "execution_count": 13,
      "outputs": []
    },
    {
      "cell_type": "markdown",
      "source": [
        "### Assignments dataset"
      ],
      "metadata": {
        "id": "ofZLr9eIkwf3"
      }
    },
    {
      "cell_type": "code",
      "execution_count": 3,
      "metadata": {
        "id": "D0E00FCRkNLO"
      },
      "outputs": [],
      "source": [
        "sys_content_1='''\n",
        "You are now an AI Data professor.\n",
        "\n",
        "This is the assignment:\n",
        "\n",
        "Part 1 [Max 300 words]\n",
        "1.1. Identify a problem that you think AI/ML can solve.\n",
        "1.2. Who are the users/customers and what is the problem they are faced with?\n",
        "1.3. What is the cause of this problem?\n",
        "1.4. What are the impacts of this problem on users/customers?\n",
        "\n",
        "Part 2 [Max 500 words]\n",
        "2.1. What is your proposed solution and how does it work?\n",
        "2.2. What is the intended outcome of the proposed AI/ML system?\n",
        "2.3. What data do you need to create this system?\n",
        "2.4. How is this data compiled and analyzed?\n",
        "2.5. How will this system benefit the customer (how will it improve/automate decision making and/or workflows)?\n",
        "\n",
        "Give technical feedback for every answer.\n",
        "\n",
        "Grade the overall assignment from 0% to 90%.\n",
        "'''\n",
        "\n",
        "sys_content_2='''\n",
        "You are now an AI Data professor.\n",
        "\n",
        "This is the assignment:\n",
        "\n",
        "Part 1\n",
        "Consider the project scope and feasibility and uncover potential challenges in developing the proposed AI/ML solution (Max 700 words)\n",
        "1.1. What data is the prediction based on? Is the data in machine-readable format, and if not, what do you need to do to convert it? If you need more data, how easy is it to acquire, and from where can you get it?\n",
        "1.2. What resources (human, technical, and infrastructural) would be required for successful implementation?\n",
        "1.3. Would the introduction of AI change the existing business model or process? Is the cost of implementing this new solution or business model worth the time and resources?\n",
        "1.4. What are the pros and cons of implementing this system alone, or partnering with another company?\n",
        "\n",
        "Part 2\n",
        "Given the challenges you have identified, what strategies can you adopt to potentially address some of these problems? (Max 300 words).\n",
        "\n",
        "Give technical feedback for every answer.\n",
        "\n",
        "Grade the overall assignment from 0% to 90%.\n",
        "'''"
      ]
    },
    {
      "cell_type": "code",
      "source": [
        "sys_content=[]\n",
        "sys_content.append(sys_content_1)\n",
        "sys_content.append(sys_content_2)"
      ],
      "metadata": {
        "id": "2badDed_lf6v"
      },
      "execution_count": null,
      "outputs": []
    },
    {
      "cell_type": "markdown",
      "source": [
        "### Submissions Dataset"
      ],
      "metadata": {
        "id": "GDgQMtWJlRDK"
      }
    },
    {
      "cell_type": "code",
      "source": [
        "user_content=[]\n",
        "while True:\n",
        "    content = input(\"Please provide the learner's assignment:  (type 'exit' to quit)\")\n",
        "    user_content.append(content)\n",
        "    print('Assignment successfully saved')\n",
        "\n",
        "    if content.lower() == 'exit':\n",
        "        print(\"Exiting the program...\")\n",
        "        break"
      ],
      "metadata": {
        "colab": {
          "base_uri": "https://localhost:8080/"
        },
        "id": "QOw5gDkLsJX9",
        "outputId": "85b65b7e-7ecc-45cd-95d1-866af2790b87"
      },
      "execution_count": 7,
      "outputs": [
        {
          "output_type": "stream",
          "name": "stdout",
          "text": [
            "Please provide the learner's assignment:  (type 'exit' to quit)Part 1: Identify a problem that you think AI/ML can solve? (max 300 words in total, excluding citations): The supplier and the customer in the organizations in the government or private sector suffer from difficulty in registering them in one interactive smart government platform to enable them to deal with the entities linked to each other, keeping them abreast of the latest deals and staying in touch with the entities to achieve a better service for these organizations, in order to deal better and faster for the following services: 1. The existence of a mechanism to register the supplier or customer from anywhere in the world 2. Facilitating the supply process for the authorities and reviewing the deals offered by the authorities 3. Ease of dealing with systems 4. Evaluation of the supplier and customer service after the delivery of the service to ensure the quality of the services provided to these entities 1.1 Who are the users/customers and what is the problem they are faced with? Suppliers suffer from the lack of a unified and clear mechanism for the supplier registration process that enables them to register to display the tenders that are offered. Organizations suffer from the lack of a unified smart mechanism that enables them to have a database of suppliers, customers in the region and employees from the traditional methods of registering suppliers, which is the paper method that drains time and effort and difficulty in dealing with the course of transactions related to suppliers and customers from registration, evaluation and follow-up 1.2 What is the cause of this problem? The main reason for the problem 1. First: It may be the unwillingness to digital transformation and take real steps to develop the process of registering suppliers and customers 2. Second: There is no cooperation between organizations 3. Thirdly, customers and suppliers are used to doing everything manually and are afraid of trying to use the systems for fear of lack of privacy and data dissemination, in addition to the employees’ fear of losing their jobs. 1.3 What are the impacts of this problem on users/customers? In light of the digital transformation and the changes taking place in the world around us, it has become necessary for this artificial intelligence to intervene to provide better services to customers and suppliers, to apply best practices, smart solutions and mechanisms, and for organizations to be pioneers in the field of information systems and to make qualitative leaps in providing their services. Part 2: What is your proposed solution and how does it work? (max 500 words in total, excluding citations): 2.1 What is the intended outcome of the proposed AI/ML system? The solution is to start activating platforms that register suppliers and customers from anywhere in the world for governmental and private organizations to facilitate the process of personal attendance for registration and paperwork. There will be transparency in the process of selecting suppliers for tenders according to an evaluation, as the supplier will additionally get an easy registration process in the platform. There will be transparency in choosing suppliers according to their evaluation. 2.2 What data do you need to create this system? Artificial intelligence may solve many complex steps of the smart registration process in addition to system intelligence in the process of evaluating suppliers and improving relations with strategic partners by providing smart, complete and comprehensive updated services to satisfy customers, institutions and employees to get rid of previous problems such as delays in the conduct of transactions and the existence of a unified system characterized by transparency during offering tenders and evaluating suppliers and customers, which leads to governance of the registration process and the quality of products and services provided to these organizations and the existence of a clear mechanism that organizations can trust by exchanging information and obtaining The best products at the agreed time and quality 1. We need data from the organizations on the work mechanisms, the current transaction flow, and the future transaction process 2. Previous database of suppliers, if possible 3. Technical requirements and specialists among experts, operators and audits 4. Data from sources and specialists 5. Data from the budget department indicating the existence of a material budget allocated for the implementation of this type of project 2.3 How is this data compiled and analysed? The collection and analysis of this data will be done by organizations, suppliers, customers and all stakeholders who will participate in the implementation of this project. It may also need rules. 2.4 How will this system benefit the customer (how will it improve/automate decision making and/or workflows)? 1. The system will assist organizations in ensuring that they obtain the best products from suppliers registered with the organization 2. The system will contribute to the process of digital transformation and artificial intelligence in organizations 3. transfer will be in the field of continuous performance improvement for employees and organizations and obtaining best practices for suppliers and customers\n",
            "Assignment successfully saved\n",
            "Please provide the learner's assignment:  (type 'exit' to quit)Part 1: Identify a problem that you think AI/ML can solve? (max 300 words in total, excluding citations): The issue of loan underwriting is one that I believe AI/ML can address in the financial sector. For instance, by analysing vast volumes of data to find patterns and linkages that may not be immediately obvious to human underwriters, AI/ML can assist in resolving the difficulty of creditworthiness assessment in loan underwriting. By automating the loan approval process and predicting the possibility of borrower default, this can cut down on the time and expense of manual underwriting. AI/ML can also be used to spot suspicious behaviour by examining transaction data and detecting fraud. In the financial sector, AI/ML has the potential to enhance loan underwriting by making it more precise, effective, and quick. 1.1 Who are the users/customers and what is the problem they are faced with? Users/customers are those who want to loan money from a bank. The issue they encounter is the time-consuming and inefficient loan underwriting procedure, which can take several weeks to complete. To establish a borrower's creditworthiness, enormous volumes of data pertaining to their credit history, income, and other characteristics are analysed. 1.2 What is the cause of this problem? The dependence on manual procedures for loan underwriting, which may be time-consuming and error-prone, is the root of the problem. Human decision-making based on historical facts can be subjective and unreliable. 1.3 What are the impacts of this problem on users/customers? The impacts of this problem on users/customers can be significant. The long loan underwriting procedure might cause access to cash to be delayed, which is essential for people seeking loans for unexpected costs. Furthermore, the manual procedure may produce in mistakes or discrepancies in decision-making, which may result in loan denials or higher interest rates. Part 2: What is your proposed solution and how does it work? (max 500 words in total, excluding citations): My proposed approach is to develop an AI/ML system for loan underwriting that can analyse enormous volumes of data in real time and make credit determinations. To illustrate, developing an AI/ML system for loan underwriting that can analyse vast volumes of data and make credit judgments in real-time is a viable answer to the banking industry's issues. To establish the borrower's creditworthiness, this system would utilize machine learning algorithms to analyse different data such as credit history, income, job status, debt-to-income ratio, and other pertinent information. Using massive datasets, these computers might uncover patterns and links that human underwriters would miss, resulting in more accurate loan choices. Furthermore, using a real-time AI/ML system to automate the loan approval process can minimize the time and expense associated with human underwriting, thus expanding the client base and income for lenders. However, careful design of the system is required to avoid propagating prejudices or discrimination in lending practices. Overall, establishing an AI/ML system for loan underwriting has the potential to enhance the financial industry's lending process by making it more accurate, efficient, and egalitarian. 2.1 What is the intended outcome of the proposed AI/ML system? The intended outcome of this system is to make the loan underwriting process faster, more accurate, and less prone to errors. 2.2 What data do you need to create this system? To build this system, we would need to collect and analyse data from several sources, such as credit reports, income statements, employment history, and other pertinent aspects. This data would be used by the AI/ML system to build a prediction model that can assess creditworthiness and make loan decisions in real time. 2.3 How is this data compiled and analysed? Using machine learning algorithms that can spot patterns and trends in the data, the data would be gathered and examined. In order to increase the system's accuracy and efficiency over time, it would also be trained using past loan data. 2.4 How will this system benefit the customer (how will it improve/automate decision making and/or workflows)? Customers would benefit from the system's automation of the loan underwriting process, which would make it quicker and more effective. As a result, loan applications would be processed more quickly, and money would be available. Additionally, the system's lending judgments would be more precise and consistent, lowering the possibility of mistakes or inconsistent results.\n",
            "Assignment successfully saved\n",
            "Please provide the learner's assignment:  (type 'exit' to quit)Part 1: Identify a problem that you think AI/ML can solve? (max 300 words in total, excluding citations): Based on AI tasks it can solve the problems in personalized investment advice and thus provisioning significant advantages to the investors. AI can keep track of market trends, do risk assessments based on intelligent algorithms and recommend appropriate investment locations to boost profits and returns. Who are the users/customers and what is the problem they are faced with? The user/customers of personalized investment advice are mostly individual investors that want to invest their savings with purpose of either wealth accumulation, retirement planning or generating passive income. However, this AI-powered technique can also be adapted by companies that do business in stock trading and blockchain trading such as cryptocurrencies trading as a tool to make their decisions when investing in a particular thing. 1.1 What is the cause of this problem? In my opinion Most of the individual investor’s lack in necessary knowledge and expertise as they do not have deep understanding of financial markets, investment portfolios and complex investment strategies. Also, the investors sometimes don’t do the correct feasibility plan. And because of that they may not evaluate investment opportunities equally and effectively. Making it worse they often lack time and resources to do any financial analysis or market research. Thus, personalized investment advice is a resourceful tool for such investors. 1.2 What are the impacts of this problem on users/customers? The effects of these issues can have a major influence on investment performance and financial well-being. Some of the outcomes are non-optimized investment decisions where their decisions do not fulfil their financial goals or risk tolerance, Lower returns is another impact that poses a threat to long term financial goals. Some users may take on excessive risks which can lead to potential loses beyond capacity and finally attempt to manage financial investments without and expert opinion is a time consuming and frustrating task to do. Part 2: What is your proposed solution and how does it work? (max 500 words in total, excluding citations): Since the trends in environment of financial markets is continuously changing, therefore, the type of reinforcement learning is the best option to continuously align the AI algorithm with market trends. For this type of AI application first a user profile needs to be created that can get information about user specific investment needs, personalized financial goals and risk tolerances. So that suggestions may then be tailored as per requirements of user. Secondly, data collection and analysis may be carried on by keeping in view the past trends and their relations with specific market parameters. This analysis is also related to risk assessment with every possible investment. Finally a machine learning model may be trained with existing trends and the capability to adapt trends using reinforced learning. 2.1 What is the intended outcome of the proposed AI/ML system? The purpose is to give users a strong and useful tool that can assist them in achieving their financial objectives, reducing risks, and improving their overall financial well-being. Additionally, the outcomes will be both precise and pleasing. 2.2 What data do you need to create this system? User profile data kind of open banking, Market trends data, Economic data, news, and sentiments data and finally user interaction data and feedback for improvement. 2.3 How is this data compiled and analysed? Through open banking the system can work by utilizing supervised learning and reinforced learning mode where first the data is collected via several sources, then pre- processed to equalize data lengths and remove unwanted data. After which the data is annotated such as by labelling data with corresponding information. Finally the model is trained with existing data and allowed to learn in future from reinforced learning technique. 2.4 How will this system benefit the customer (how will it improve/automate decision making and/or workflows)? System offers investing recommendations based on individual objectives and risk tolerance. Data analysis, decision-making, and risk assessment are automated, saving a lot of time and labour. Customers gain from more profits, lower risks, and improved general financial health\n",
            "Assignment successfully saved\n",
            "Please provide the learner's assignment:  (type 'exit' to quit)Part 1: Identify a problem that you think AI/ML can solve? (max 300 words in total, excluding citations): 1.1 Who are the users/customers and what is the problem they are faced with? - The users/customers are people such as individuals and investors that would like to manage and track their financial data including: o Spending o Budget o Saving - The problems they are faced with are: - o Lack of guidance  Not knowing where to start  Ineffective advice o Lack of time  Might take time to organize and track their finances. o Complexity  As there are a lot of product and services to choose from, It is quite a difficult to decide what would be the right choice for their needs. 1.2 What is the cause of this problem? - The financial world is getting more complicated with a wide range of products and services available, making it hard for people to keep track. Additionally, the constant changes in the financial landscape makes it difficult for individuals to know the best options for their needs. 1.2 What are the impacts of this problem on users/customers? - Financial stress often affects individuals who lack a clear understanding of their finances. As a result, they may encounter issues like anxiety, depression, and even physical health problems. - Financial insecurity is more likely to be experienced by those who lack an organized and defined financial plan. Therefore, working with financial responsibilities, such as bill payments or savings, can become challenging. - Due to the lack of guidance, individuals are prone to making poor financial choices, which leads to bankruptcy, debt, and financial downfall. - Planning in general such as retirement and tax planning are all challenges that individuals could refer to as they need to plan by looking at their financial income. Introducing a bad plan would produce a bad outcome. Part 2: What is your proposed solution and how does it work? (max 500 words in total, excluding citations): 2.1 What is the intended outcome of the proposed AI/ML system? AI/ML system will offer: - - Personalized insights into an individual's financial situation by analysing their financial data, including spending patterns, financial goals, and risk tolerance. This enables tailored recommendations for improved financial management. - Automated tools that can efficiently handle tasks like tracking spending, budgeting, and investing, freeing up time for individuals and leading to more informed financial choices. - AI based guidance that would provide expert financial advice, allowing individuals to make well-informed decisions regarding their finances. - AI technology will be used to inspect large amounts of data, identifying patterns for fraud detect, thereby providing a safe environment for the individual. - Aiding in risk assessment by analysing data on economic conditions and market trends enabling better risk mitigation decisions - Identify potential investment opportunities, therefore, guiding individuals in budgeting their funds more wisely. Moreover, AI/ML contributes to market forecasting by analysing past data and recognizing trends, allowing investors to make wise decisions on when to buy or sell assets. 2.2 What data do you need to create this system? - Personal financial data such as income, expenses, assets, liabilities, and credit history. These data are essential in tracking spending patterns, determining financial goals, and evaluating risk. - Demographic data consists of age, gender, marital status, and employment status. Analysing this data helps in understanding the user's financial situation and identifying potential risks. - Behavioural data includes details about spending and saving habits, as well as investment behaviour. These data enable the identification of patterns and prediction of future financial behaviour. - Market data comprises information like stock prices, and interest rates. Leveraging this data aids in making informed investment decisions and forecasting future financial trends. 2.3 How is this data compiled and analysed? 1- Data collection refers to the process of gathering information from various sources, like bank accounts, credit card statements, and investment accounts. Subsequently, this data is merged into a unified dataset, ready for analysis. 2- Data cleaning/organizing involves the task of cleaning and formatting the data to ensure stability and accuracy, eliminating errors and inconsistencies. This step is crucial to ensure the data's reliability for analysis purposes. 3- Data analysis utilizes statistical and machine learning methods to examine the data, revealing patterns and insights. These findings can then be used to predict future financial behaviour and deliver personalized recommendations. 2.4 How will this system benefit the customer (how will it improve/automate decision making and/or workflows)? - Customers will have their own personalized insights and recommendations, allowing them to make improved financial choices, leading to potential savings, goal achievement, and risk reduction. - The system can automate various financial management tasks, such as expense tracking, budgeting, and investments, saving customers time and effort, while ensuring better financial organization. - Increased convenience since customers will have easy access to their financial data from anywhere, simplifying spending tracking, payments, and investments for enhanced convenience. - Providing valuable insights into customer behaviour and preferences, the system enables financial institutions to tailor products and services to meet specific customer needs, enhancing overall customer service. Our efforts have resulted in a 30% decrease in the time users interact with our customer service team. Users now possess the capability to self-resolve common queries, leading to heightened user satisfaction rates. (TechCrunch Is Part of the Yahoo Family of Brands, n.d.) In summary, an AI/ML-powered personalized finance system can significantly benefit customers by refining decision-making, efficient workflows, increasing convenience, and elevating the level of customer service.\n",
            "Assignment successfully saved\n",
            "Please provide the learner's assignment:  (type 'exit' to quit)Part 1: Identify a problem that you think AI/ML can solve? (max 300 words in total, excluding citations): 1.1 Who are the users/customers and what is the problem they are faced with? Loan underwriting process is the financial problem that AI/ML can help to solve. In this process, the financial institution assesses the credit worthiness of the customer. This is based on multiple factors such as: customer specific credit history, income history, employment history and other related financial data. The manual process of underwriting requires high resources, costly, involves human biases and time waste. These problems cause potential issues in loan allotment. The users involved in this process are financial institutions such as: banks, other organizations that lend loans and consumers. 1.2 What is the cause of this problem? The complexity of data in the underwriting process is the main reason of the problem. Normally, the underwriters manually review the loan applications and analyse the numerous data and records. This is the reason of making it difficult and challenging for underwriters to process large numbers of loan applications on time. The manual process of analysing large data sets usually does not take deep insight into data. This caused to low accuracy in assessing credit worthiness of customers. 1.3 What are the impacts of this problem on users/customers? The problem of processing manual loan applications can have a significant impact on financial institutions as well as on customers applying for a loan: 1. Duration of approval times: due to manual processing of loan application, the loan approval takes more time. 2. Low accuracy: due to manual assessment and human biases, lack of creditworthiness assessment accuracy resulting in wrong decisions. 3. Operational Cost: due to manual process and involvement of resources, the operational cost becomes so high for financial institutions. 4. Customer satisfaction: due to time waste, manual processing and inconsistent application process, low satisfaction in customers experience. Part 2: What is your proposed solution and how does it work? (max 500 words in total, excluding citations): 2.1 What is the intended outcome of the proposed AI/ML system? The outcome of the AI system for loan underwriting process focuses in automating the whole process (Swati Sachan, Yang, Xu, David Eraso Benavides, & Li, 2020). First of all, with the use of AI/ML is to overcome the problem, and optimize the overall process of loan approval at a higher level. The financial institutions like banks, the credit unions, other lending organizations and the loan applicants are the primary users of this proposed system. The current major problem is manual processing and time consuming with intensive work that leads to inefficiencies and significant issues in loan application evaluation (Swati Sachan, Yang, Xu, David Eraso Benavides, & Li, 2020). In addition, by using AI/ML is to address these issues and create an automated process that significantly reduces the time and increases the efficiency of the creditworthiness assessment process. 2.2 What data do you need to create this system? The proposed AI system required to process applications by accessing the historical records (Liu & Gillis, 2020). Therefore, the system will require a large data with historical records of customers, credit worthiness, other financial records, income data, transaction histories, and previous loan performance records. 2.3 How is this data compiled and analysed? The data will be gathered from various sources and will be processed to clean, standardize and make it ready to the pre-process stage. The AI system will use this data to train its model and create relationships among various factors and variables available (Liu & Gillis, 2020). This will result in creating a trained system that has the capacity to accept the loan application, process them and assess the creditworthiness of the applicant and make decisions. 2.4 How will this system benefit the customer (how will it improve/automate decision making and/or workflows)? The users of the proposed AI / ML systems are financial institutions and loan applicants. The proposed system will provide significant benefits to the users in multiple ways. Loan applicants will apply for a loan through an automated process which reduces human interaction to avoid any biases. Once the application is submitted, it will be processed through an AI automated system that will waste less time compared with the manual process. Therefore, the customers will benefit from fast, automated and accurate credit risk assessment (“Artificial Intelligence and Bank Credit Analysis: A Review,” 2022). This system will also extend the credit access to more customers by taking applications through automated processes with fast processing. In addition, financial institution will get the most benefits from the system. Firstly, the resources and data required in manual processing will not be required anymore. This will affect in reducing the operational cost of organization. Also, the loan application will process faster with no objection to organization for biased decisions for loan allotments (“Artificial Intelligence and Bank Credit Analysis: A Review,” 2022). Furthermore, the organization will benefit from AI loan applications system by increasing the revenue with low cost. Therefore, by introducing AI/ML to this problem will benefit the system by making it faster, cheaper and better in decision-making.\n",
            "Assignment successfully saved\n",
            "Please provide the learner's assignment:  (type 'exit' to quit)exit\n",
            "Assignment successfully saved\n",
            "Exiting the program...\n"
          ]
        }
      ]
    },
    {
      "cell_type": "markdown",
      "source": [
        "### Export Datasets"
      ],
      "metadata": {
        "id": "7MmFod1Rll70"
      }
    },
    {
      "cell_type": "code",
      "source": [
        "def export_data(file, file_name):\n",
        "    # Specify the file path for the CSV file\n",
        "  csv_file_path = file_name\n",
        "\n",
        "  # Open the CSV file in write mode\n",
        "  with open(csv_file_path, 'w', newline='') as csv_file:\n",
        "      # Create a CSV writer object\n",
        "      csv_writer = csv.writer(csv_file)\n",
        "\n",
        "      # Write the list to the CSV file\n",
        "      csv_writer.writerow(file)\n",
        "\n",
        "  print(f'The list has been exported to {csv_file_path}.')"
      ],
      "metadata": {
        "id": "0qd35_NJlpgV"
      },
      "execution_count": 9,
      "outputs": []
    },
    {
      "cell_type": "code",
      "source": [
        "export_data(sys_content, 'sys_content.csv')\n",
        "export_data(user_content, 'user_content.csv')"
      ],
      "metadata": {
        "colab": {
          "base_uri": "https://localhost:8080/"
        },
        "id": "orA-wsLvuY-v",
        "outputId": "3514ab5d-14d1-45e8-b234-3c264db1eada"
      },
      "execution_count": 14,
      "outputs": [
        {
          "output_type": "stream",
          "name": "stdout",
          "text": [
            "The list has been exported to sys_content.csv.\n",
            "The list has been exported to user_content.csv.\n"
          ]
        }
      ]
    },
    {
      "cell_type": "code",
      "source": [],
      "metadata": {
        "id": "kEjTsmgGuyl4"
      },
      "execution_count": null,
      "outputs": []
    }
  ]
}