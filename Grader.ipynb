{
  "nbformat": 4,
  "nbformat_minor": 0,
  "metadata": {
    "colab": {
      "provenance": [],
      "include_colab_link": true
    },
    "kernelspec": {
      "name": "python3",
      "display_name": "Python 3"
    },
    "language_info": {
      "name": "python"
    }
  },
  "cells": [
    {
      "cell_type": "markdown",
      "metadata": {
        "id": "view-in-github",
        "colab_type": "text"
      },
      "source": [
        "<a href=\"https://colab.research.google.com/github/MWFK/Minervas/blob/master/Grader.ipynb\" target=\"_parent\"><img src=\"https://colab.research.google.com/assets/colab-badge.svg\" alt=\"Open In Colab\"/></a>"
      ]
    },
    {
      "cell_type": "markdown",
      "source": [
        "### Libs and Config"
      ],
      "metadata": {
        "id": "bHqT9kvnAf8B"
      }
    },
    {
      "cell_type": "code",
      "source": [
        "!pip install --upgrade openai"
      ],
      "metadata": {
        "id": "HyNf5_EFx3Fy"
      },
      "execution_count": null,
      "outputs": []
    },
    {
      "cell_type": "code",
      "source": [
        "import os\n",
        "import csv\n",
        "import json\n",
        "from openai import OpenAI\n",
        "from google.colab import drive"
      ],
      "metadata": {
        "id": "L7DHtazD_Wy_"
      },
      "execution_count": 13,
      "outputs": []
    },
    {
      "cell_type": "code",
      "source": [
        "drive.mount('/content/drive')\n",
        "\n",
        "# Load API key from configuration file\n",
        "config_path = '/content/drive/MyDrive/Colab_Notebooks/API_Keys/openai_api_key.json'  # Update with your path\n",
        "with open(config_path, 'r') as f:\n",
        "    config = json.load(f)\n",
        "\n",
        "api_key = config.get('api_key', None)\n",
        "\n",
        "if api_key is None:\n",
        "    raise ValueError(\"API key not found in the configuration file.\")\n",
        "\n",
        "print(\"API key loaded successfully.\")"
      ],
      "metadata": {
        "id": "nFD8lJnl_X2T",
        "outputId": "fb8741f2-0525-48bf-a93f-9fdf4d6205dc",
        "colab": {
          "base_uri": "https://localhost:8080/"
        }
      },
      "execution_count": 6,
      "outputs": [
        {
          "output_type": "stream",
          "name": "stdout",
          "text": [
            "Drive already mounted at /content/drive; to attempt to forcibly remount, call drive.mount(\"/content/drive\", force_remount=True).\n",
            "API key loaded successfully.\n"
          ]
        }
      ]
    },
    {
      "cell_type": "code",
      "source": [
        "os.environ[\"OPENAI_API_KEY\"] = api_key\n",
        "print(openai.__version__)\n",
        "client = OpenAI()"
      ],
      "metadata": {
        "colab": {
          "base_uri": "https://localhost:8080/"
        },
        "id": "gFdf_GbZx5_Y",
        "outputId": "8c0f7493-69d0-4182-d2d3-66ef82c0e9a7"
      },
      "execution_count": 11,
      "outputs": [
        {
          "output_type": "stream",
          "name": "stdout",
          "text": [
            "1.11.1\n"
          ]
        }
      ]
    },
    {
      "cell_type": "markdown",
      "source": [
        "### Test Data"
      ],
      "metadata": {
        "id": "Z1YB6xRWAdN5"
      }
    },
    {
      "cell_type": "code",
      "source": [
        "sys_content_1='''\n",
        "You are now an AI Data professor.\n",
        "\n",
        "This is the assignment:\n",
        "\n",
        "Part 1 [Max 300 words]\n",
        "Identify a problem that you think AI/ML can solve.\n",
        "Who are the users/customers and what is the problem they are faced with?\n",
        "What is the cause of this problem?\n",
        "What are the impacts of this problem on users/customers?\n",
        "\n",
        "Part 2 [Max 500 words]\n",
        "What is your proposed solution and how does it work?\n",
        "What is the intended outcome of the proposed AI/ML system?\n",
        "What data do you need to create this system?\n",
        "How is this data compiled and analyzed?\n",
        "How will this system benefit the customer (how will it improve/automate decision making and/or workflows)?\n",
        "\n",
        "Use this as your grading criteria:\n",
        "Adherence to the Brief and Organisation: score from 0 to 3.\n",
        "Understanding and Content Knowledge: score from 0 to 3.\n",
        "Critical Thinking and Research: score from 0 to 3.\n",
        "Final score is the sum of the previous criteria\n",
        "'''\n",
        "\n",
        "sys_content_2='''\n",
        "You are now an AI Data professor.\n",
        "\n",
        "This is the assignment:\n",
        "\n",
        "Part 1 [Max 300 words]\n",
        "Identify a problem that you think AI/ML can solve.\n",
        "Who are the users/customers and what is the problem they are faced with?\n",
        "What is the cause of this problem?\n",
        "What are the impacts of this problem on users/customers?\n",
        "\n",
        "Part 2 [Max 500 words]\n",
        "What is your proposed solution and how does it work?\n",
        "What is the intended outcome of the proposed AI/ML system?\n",
        "What data do you need to create this system?\n",
        "How is this data compiled and analyzed?\n",
        "How will this system benefit the customer (how will it improve/automate decision making and/or workflows)?\n",
        "\n",
        "Grade the overall assignment from 0% to 100%.\n",
        "'''\n",
        "\n",
        "user_content_1='''\n",
        "Part 1: Identify a problem that you think AI/ML can solve? (max 300 words in total,\n",
        "excluding citations):\n",
        "The supplier and the customer in the organizations in the government or private sector suffer\n",
        "from difficulty in registering them in one interactive smart government platform to enable them\n",
        "to deal with the entities linked to each other, keeping them abreast of the latest deals and staying\n",
        "in touch with the entities to achieve a better service for these organizations, in order to deal better\n",
        "and faster for the following services:\n",
        "1. The existence of a mechanism to register the supplier or customer from anywhere in the\n",
        "world\n",
        "2. Facilitating the supply process for the authorities and reviewing the deals offered by the\n",
        "authorities\n",
        "3. Ease of dealing with systems\n",
        "4. Evaluation of the supplier and customer service after the delivery of the service to ensure\n",
        "the quality of the services provided to these entities\n",
        "1.1 Who are the users/customers and what is the problem they are faced with?\n",
        "Suppliers suffer from the lack of a unified and clear mechanism for the supplier registration\n",
        "process that enables them to register to display the tenders that are offered. Organizations suffer\n",
        "from the lack of a unified smart mechanism that enables them to have a database of suppliers,\n",
        "customers in the region and employees from the traditional methods of registering suppliers,\n",
        "which is the paper method that drains time and effort and difficulty in dealing with the course of\n",
        "transactions related to suppliers and customers from registration, evaluation and follow-up\n",
        "1.2 What is the cause of this problem?\n",
        "The main reason for the problem\n",
        "1. First: It may be the unwillingness to digital transformation and take real steps to develop\n",
        "the process of registering suppliers and customers\n",
        "2. Second: There is no cooperation between organizations\n",
        "3. Thirdly, customers and suppliers are used to doing everything manually and are afraid of\n",
        "trying to use the systems for fear of lack of privacy and data dissemination, in addition to\n",
        "the employees’ fear of losing their jobs.\n",
        "1.3 What are the impacts of this problem on users/customers?\n",
        "In light of the digital transformation and the changes taking place in the world around us, it has\n",
        "become necessary for this artificial intelligence to intervene to provide better services to\n",
        "customers and suppliers, to apply best practices, smart solutions and mechanisms, and for\n",
        "organizations to be pioneers in the field of information systems and to make qualitative leaps in\n",
        "providing their services.\n",
        "Part 2: What is your proposed solution and how does it work? (max 500 words in\n",
        "total, excluding citations):\n",
        "2.1 What is the intended outcome of the proposed AI/ML system?\n",
        "The solution is to start activating platforms that register suppliers and customers from\n",
        "anywhere in the world for governmental and private organizations to facilitate the\n",
        "process of personal attendance for registration and paperwork. There will be\n",
        "transparency in the process of selecting suppliers for tenders according to an\n",
        "evaluation, as the supplier will additionally get an easy registration process in the\n",
        "platform. There will be transparency in choosing suppliers according to their evaluation.\n",
        "2.2 What data do you need to create this system?\n",
        "Artificial intelligence may solve many complex steps of the smart registration process in\n",
        "addition to system intelligence in the process of evaluating suppliers and improving\n",
        "relations with strategic partners by providing smart, complete and comprehensive\n",
        "updated services to satisfy customers, institutions and employees to get rid of previous\n",
        "problems such as delays in the conduct of transactions and the existence of a unified\n",
        "system characterized by transparency during offering tenders and evaluating suppliers\n",
        "and customers, which leads to governance of the registration process and the quality of\n",
        "products and services provided to these organizations and the existence of a clear\n",
        "mechanism that organizations can trust by exchanging information and obtaining The\n",
        "best products at the agreed time and quality\n",
        "1. We need data from the organizations on the work mechanisms, the current\n",
        "transaction flow, and the future transaction process\n",
        "2. Previous database of suppliers, if possible\n",
        "3. Technical requirements and specialists among experts, operators and audits\n",
        "4. Data from sources and specialists\n",
        "5. Data from the budget department indicating the existence of a material budget\n",
        "allocated for the implementation of this type of project\n",
        "2.3 How is this data compiled and analysed?\n",
        "The collection and analysis of this data will be done by organizations, suppliers,\n",
        "customers and all stakeholders who will participate in the implementation of this project.\n",
        "It may also need rules.\n",
        "2.4 How will this system benefit the customer (how will it improve/automate decision\n",
        "making and/or workflows)?\n",
        "1. The system will assist organizations in ensuring that they obtain the best\n",
        "products from suppliers registered with the organization\n",
        "2. The system will contribute to the process of digital transformation and artificial\n",
        "intelligence in organizations\n",
        "3. transfer will be in the field of continuous performance improvement for\n",
        "employees and organizations and obtaining best practices for suppliers and\n",
        "customers\n",
        "'''\n",
        "\n",
        "user_content_2='''\n",
        "Part 1: Identify a problem that you think AI/ML can solve? (max 300 words in total,\n",
        "excluding citations):\n",
        "The supplier and the customer in the organizations in the government or private sector suffer\n",
        "from difficulty in registering them in one interactive smart government platform to enable them\n",
        "to deal with the entities linked to each other, keeping them abreast of the latest deals and staying\n",
        "in touch with the entities to achieve a better service for these organizations, in order to deal better\n",
        "and faster for the following services:\n",
        "1. The existence of a mechanism to register the supplier or customer from anywhere in the\n",
        "world\n",
        "2. Facilitating the supply process for the authorities and reviewing the deals offered by the\n",
        "authorities\n",
        "3. Ease of dealing with systems\n",
        "4. Evaluation of the supplier and customer service after the delivery of the service to ensure\n",
        "the quality of the services provided to these entities\n",
        "1.1 Who are the users/customers and what is the problem they are faced with?\n",
        "Suppliers suffer from the lack of a unified and clear mechanism for the supplier registration\n",
        "process that enables them to register to display the tenders that are offered. Organizations suffer\n",
        "from the lack of a unified smart mechanism that enables them to have a database of suppliers,\n",
        "customers in the region and employees from the traditional methods of registering suppliers,\n",
        "which is the paper method that drains time and effort and difficulty in dealing with the course of\n",
        "transactions related to suppliers and customers from registration, evaluation and follow-up\n",
        "1.2 What is the cause of this problem?\n",
        "The main reason for the problem\n",
        "1. First: It may be the unwillingness to digital transformation and take real steps to develop\n",
        "the process of registering suppliers and customers\n",
        "2. Second: There is no cooperation between organizations\n",
        "3. Thirdly, customers and suppliers are used to doing everything manually and are afraid of\n",
        "trying to use the systems for fear of lack of privacy and data dissemination, in addition to\n",
        "the employees’ fear of losing their jobs.\n",
        "1.3 What are the impacts of this problem on users/customers?\n",
        "In light of the digital transformation and the changes taking place in the world around us, it has\n",
        "become necessary for this artificial intelligence to intervene to provide better services to\n",
        "customers and suppliers, to apply best practices, smart solutions and mechanisms, and for\n",
        "organizations to be pioneers in the field of information systems and to make qualitative leaps in\n",
        "providing their services.\n",
        "Part 2: What is your proposed solution and how does it work? (max 500 words in\n",
        "total, excluding citations):\n",
        "2.1 What is the intended outcome of the proposed AI/ML system?\n",
        "The solution is to start activating platforms that register suppliers and customers from\n",
        "anywhere in the world for governmental and private organizations to facilitate the\n",
        "process of personal attendance for registration and paperwork. There will be\n",
        "transparency in the process of selecting suppliers for tenders according to an\n",
        "evaluation, as the supplier will additionally get an easy registration process in the\n",
        "platform. There will be transparency in choosing suppliers according to their evaluation.\n",
        "2.2 What data do you need to create this system?\n",
        "Artificial intelligence may solve many complex steps of the smart registration process in\n",
        "addition to system intelligence in the process of evaluating suppliers and improving\n",
        "relations with strategic partners by providing smart, complete and comprehensive\n",
        "updated services to satisfy customers, institutions and employees to get rid of previous\n",
        "problems such as delays in the conduct of transactions and the existence of a unified\n",
        "system characterized by transparency during offering tenders and evaluating suppliers\n",
        "and customers, which leads to governance of the registration process and the quality of\n",
        "products and services provided to these organizations and the existence of a clear\n",
        "mechanism that organizations can trust by exchanging information and obtaining The\n",
        "best products at the agreed time and quality\n",
        "1. We need data from the organizations on the work mechanisms, the current\n",
        "transaction flow, and the future transaction process\n",
        "2. Previous database of suppliers, if possible\n",
        "3. Technical requirements and specialists among experts, operators and audits\n",
        "4. Data from sources and specialists\n",
        "5. Data from the budget department indicating the existence of a material budget\n",
        "allocated for the implementation of this type of project\n",
        "2.3 How is this data compiled and analysed?\n",
        "The collection and analysis of this data will be done by organizations, suppliers,\n",
        "customers and all stakeholders who will participate in the implementation of this project.\n",
        "It may also need rules.\n",
        "2.4 How will this system benefit the customer (how will it improve/automate decision\n",
        "making and/or workflows)?\n",
        "1. The system will assist organizations in ensuring that they obtain the best\n",
        "products from suppliers registered with the organization\n",
        "2. The system will contribute to the process of digital transformation and artificial\n",
        "intelligence in organizations\n",
        "3. transfer will be in the field of continuous performance improvement for\n",
        "employees and organizations and obtaining best practices for suppliers and\n",
        "customers\n",
        "'''"
      ],
      "metadata": {
        "id": "YAVn0J9mMbft"
      },
      "execution_count": 12,
      "outputs": []
    },
    {
      "cell_type": "code",
      "source": [
        "sys_content=[]\n",
        "sys_content.append(sys_content_1)\n",
        "sys_content.append(sys_content_2)\n",
        "\n",
        "user_content=[]\n",
        "user_content.append(user_content_1)\n",
        "user_content.append(user_content_2)"
      ],
      "metadata": {
        "id": "OIsQY4e9EmgL"
      },
      "execution_count": null,
      "outputs": []
    },
    {
      "cell_type": "code",
      "source": [
        "def export_data(file, file_name):\n",
        "    # Specify the file path for the CSV file\n",
        "  csv_file_path = file_name\n",
        "\n",
        "  # Open the CSV file in write mode\n",
        "  with open(csv_file_path, 'w', newline='') as csv_file:\n",
        "      # Create a CSV writer object\n",
        "      csv_writer = csv.writer(csv_file)\n",
        "\n",
        "      # Write the list to the CSV file\n",
        "      csv_writer.writerow(file)\n",
        "\n",
        "  print(f'The list has been exported to {csv_file_path}.')"
      ],
      "metadata": {
        "id": "XUI9Ef5sCTwe"
      },
      "execution_count": 20,
      "outputs": []
    },
    {
      "cell_type": "code",
      "source": [
        "export_data(sys_content, 'sys_content.csv')\n",
        "export_data(user_content, 'user_content.csv')"
      ],
      "metadata": {
        "id": "nuH7r67HEHgf",
        "outputId": "05cb0a16-6ab2-4a5a-e1f4-d62593cdbece",
        "colab": {
          "base_uri": "https://localhost:8080/"
        }
      },
      "execution_count": 21,
      "outputs": [
        {
          "output_type": "stream",
          "name": "stdout",
          "text": [
            "The list has been exported to sys_content.csv.\n",
            "The list has been exported to user_content.csv.\n"
          ]
        }
      ]
    },
    {
      "cell_type": "markdown",
      "source": [
        "### Modeling"
      ],
      "metadata": {
        "id": "fV_UBFBFD39R"
      }
    },
    {
      "cell_type": "code",
      "source": [
        "def grader(sys_content, user_content):\n",
        "  completion = client.chat.completions.create(\n",
        "  model=\"gpt-4-turbo-preview\",\n",
        "  messages=[\n",
        "    {\"role\": \"system\", \"content\": sys_content},\n",
        "    {\"role\": \"user\", \"content\": user_content}],\n",
        "    # max_tokens=50\n",
        "  )\n",
        "  return completion.choices[0].message.content"
      ],
      "metadata": {
        "id": "Ja5YCq_60P4r"
      },
      "execution_count": 17,
      "outputs": []
    },
    {
      "cell_type": "code",
      "source": [
        "grader(sys_content[0], user_content[0])"
      ],
      "metadata": {
        "id": "mfAbVOvlC4Lg",
        "outputId": "bb8da939-03e9-434f-b1d1-ef589b144747",
        "colab": {
          "base_uri": "https://localhost:8080/",
          "height": 35
        }
      },
      "execution_count": 18,
      "outputs": [
        {
          "output_type": "execute_result",
          "data": {
            "text/plain": [
              "\"Hello! It seems you haven't asked a question yet. How can I assist you today?\""
            ],
            "application/vnd.google.colaboratory.intrinsic+json": {
              "type": "string"
            }
          },
          "metadata": {},
          "execution_count": 18
        }
      ]
    }
  ]
}